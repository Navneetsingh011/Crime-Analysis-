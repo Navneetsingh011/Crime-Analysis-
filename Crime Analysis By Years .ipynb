{
 "cells": [
  {
   "cell_type": "markdown",
   "metadata": {},
   "source": [
    "### Importing Libraries"
   ]
  },
  {
   "cell_type": "code",
   "execution_count": 1,
   "metadata": {},
   "outputs": [],
   "source": [
    "import pandas as pd\n",
    "import numpy as np\n",
    "import matplotlib.pyplot as plt\n",
    "import seaborn as sns\n",
    "import warnings\n",
    "warnings.simplefilter(action='ignore', category=FutureWarning)"
   ]
  },
  {
   "cell_type": "markdown",
   "metadata": {},
   "source": [
    "### Importing Data"
   ]
  },
  {
   "cell_type": "code",
   "execution_count": 2,
   "metadata": {},
   "outputs": [
    {
     "data": {
      "text/html": [
       "<div>\n",
       "<style scoped>\n",
       "    .dataframe tbody tr th:only-of-type {\n",
       "        vertical-align: middle;\n",
       "    }\n",
       "\n",
       "    .dataframe tbody tr th {\n",
       "        vertical-align: top;\n",
       "    }\n",
       "\n",
       "    .dataframe thead th {\n",
       "        text-align: right;\n",
       "    }\n",
       "</style>\n",
       "<table border=\"1\" class=\"dataframe\">\n",
       "  <thead>\n",
       "    <tr style=\"text-align: right;\">\n",
       "      <th></th>\n",
       "      <th>Unnamed: 0</th>\n",
       "      <th>STATE/UT</th>\n",
       "      <th>DISTRICT</th>\n",
       "      <th>Year</th>\n",
       "      <th>Rape</th>\n",
       "      <th>Kidnapping and Abduction</th>\n",
       "      <th>Dowry Deaths</th>\n",
       "      <th>Assault on women with intent to outrage her modesty</th>\n",
       "      <th>Insult to modesty of Women</th>\n",
       "      <th>Cruelty by Husband or his Relatives</th>\n",
       "      <th>Importation of Girls</th>\n",
       "    </tr>\n",
       "  </thead>\n",
       "  <tbody>\n",
       "    <tr>\n",
       "      <th>0</th>\n",
       "      <td>0</td>\n",
       "      <td>ANDHRA PRADESH</td>\n",
       "      <td>ADILABAD</td>\n",
       "      <td>2001</td>\n",
       "      <td>50</td>\n",
       "      <td>30</td>\n",
       "      <td>16</td>\n",
       "      <td>149</td>\n",
       "      <td>34</td>\n",
       "      <td>175</td>\n",
       "      <td>0</td>\n",
       "    </tr>\n",
       "    <tr>\n",
       "      <th>1</th>\n",
       "      <td>1</td>\n",
       "      <td>ANDHRA PRADESH</td>\n",
       "      <td>ANANTAPUR</td>\n",
       "      <td>2001</td>\n",
       "      <td>23</td>\n",
       "      <td>30</td>\n",
       "      <td>7</td>\n",
       "      <td>118</td>\n",
       "      <td>24</td>\n",
       "      <td>154</td>\n",
       "      <td>0</td>\n",
       "    </tr>\n",
       "    <tr>\n",
       "      <th>2</th>\n",
       "      <td>2</td>\n",
       "      <td>ANDHRA PRADESH</td>\n",
       "      <td>CHITTOOR</td>\n",
       "      <td>2001</td>\n",
       "      <td>27</td>\n",
       "      <td>34</td>\n",
       "      <td>14</td>\n",
       "      <td>112</td>\n",
       "      <td>83</td>\n",
       "      <td>186</td>\n",
       "      <td>0</td>\n",
       "    </tr>\n",
       "    <tr>\n",
       "      <th>3</th>\n",
       "      <td>3</td>\n",
       "      <td>ANDHRA PRADESH</td>\n",
       "      <td>CUDDAPAH</td>\n",
       "      <td>2001</td>\n",
       "      <td>20</td>\n",
       "      <td>20</td>\n",
       "      <td>17</td>\n",
       "      <td>126</td>\n",
       "      <td>38</td>\n",
       "      <td>57</td>\n",
       "      <td>0</td>\n",
       "    </tr>\n",
       "    <tr>\n",
       "      <th>4</th>\n",
       "      <td>4</td>\n",
       "      <td>ANDHRA PRADESH</td>\n",
       "      <td>EAST GODAVARI</td>\n",
       "      <td>2001</td>\n",
       "      <td>23</td>\n",
       "      <td>26</td>\n",
       "      <td>12</td>\n",
       "      <td>109</td>\n",
       "      <td>58</td>\n",
       "      <td>247</td>\n",
       "      <td>0</td>\n",
       "    </tr>\n",
       "  </tbody>\n",
       "</table>\n",
       "</div>"
      ],
      "text/plain": [
       "   Unnamed: 0        STATE/UT       DISTRICT  Year  Rape  \\\n",
       "0           0  ANDHRA PRADESH       ADILABAD  2001    50   \n",
       "1           1  ANDHRA PRADESH      ANANTAPUR  2001    23   \n",
       "2           2  ANDHRA PRADESH       CHITTOOR  2001    27   \n",
       "3           3  ANDHRA PRADESH       CUDDAPAH  2001    20   \n",
       "4           4  ANDHRA PRADESH  EAST GODAVARI  2001    23   \n",
       "\n",
       "   Kidnapping and Abduction  Dowry Deaths  \\\n",
       "0                        30            16   \n",
       "1                        30             7   \n",
       "2                        34            14   \n",
       "3                        20            17   \n",
       "4                        26            12   \n",
       "\n",
       "   Assault on women with intent to outrage her modesty  \\\n",
       "0                                                149     \n",
       "1                                                118     \n",
       "2                                                112     \n",
       "3                                                126     \n",
       "4                                                109     \n",
       "\n",
       "   Insult to modesty of Women  Cruelty by Husband or his Relatives  \\\n",
       "0                          34                                  175   \n",
       "1                          24                                  154   \n",
       "2                          83                                  186   \n",
       "3                          38                                   57   \n",
       "4                          58                                  247   \n",
       "\n",
       "   Importation of Girls  \n",
       "0                     0  \n",
       "1                     0  \n",
       "2                     0  \n",
       "3                     0  \n",
       "4                     0  "
      ]
     },
     "execution_count": 2,
     "metadata": {},
     "output_type": "execute_result"
    }
   ],
   "source": [
    "df=pd.read_csv(r\"C:\\Users\\navneet\\crime.csv\")\n",
    "df.head()"
   ]
  },
  {
   "cell_type": "code",
   "execution_count": 3,
   "metadata": {},
   "outputs": [
    {
     "data": {
      "text/html": [
       "<div>\n",
       "<style scoped>\n",
       "    .dataframe tbody tr th:only-of-type {\n",
       "        vertical-align: middle;\n",
       "    }\n",
       "\n",
       "    .dataframe tbody tr th {\n",
       "        vertical-align: top;\n",
       "    }\n",
       "\n",
       "    .dataframe thead th {\n",
       "        text-align: right;\n",
       "    }\n",
       "</style>\n",
       "<table border=\"1\" class=\"dataframe\">\n",
       "  <thead>\n",
       "    <tr style=\"text-align: right;\">\n",
       "      <th></th>\n",
       "      <th>Unnamed: 0</th>\n",
       "      <th>STATE/UT</th>\n",
       "      <th>DISTRICT</th>\n",
       "      <th>Year</th>\n",
       "      <th>Rape</th>\n",
       "      <th>Kidnapping and Abduction</th>\n",
       "      <th>Dowry Deaths</th>\n",
       "      <th>Assault on women with intent to outrage her modesty</th>\n",
       "      <th>Insult to modesty of Women</th>\n",
       "      <th>Cruelty by Husband or his Relatives</th>\n",
       "      <th>Importation of Girls</th>\n",
       "    </tr>\n",
       "  </thead>\n",
       "  <tbody>\n",
       "    <tr>\n",
       "      <th>10667</th>\n",
       "      <td>827</td>\n",
       "      <td>Delhi UT</td>\n",
       "      <td>Spl Cell</td>\n",
       "      <td>2014</td>\n",
       "      <td>0</td>\n",
       "      <td>0</td>\n",
       "      <td>0</td>\n",
       "      <td>0</td>\n",
       "      <td>0</td>\n",
       "      <td>0</td>\n",
       "      <td>0</td>\n",
       "    </tr>\n",
       "    <tr>\n",
       "      <th>10668</th>\n",
       "      <td>828</td>\n",
       "      <td>Delhi UT</td>\n",
       "      <td>SPUWAC</td>\n",
       "      <td>2014</td>\n",
       "      <td>0</td>\n",
       "      <td>0</td>\n",
       "      <td>0</td>\n",
       "      <td>0</td>\n",
       "      <td>0</td>\n",
       "      <td>160</td>\n",
       "      <td>0</td>\n",
       "    </tr>\n",
       "    <tr>\n",
       "      <th>10669</th>\n",
       "      <td>829</td>\n",
       "      <td>Delhi UT</td>\n",
       "      <td>Vigilance</td>\n",
       "      <td>2014</td>\n",
       "      <td>0</td>\n",
       "      <td>0</td>\n",
       "      <td>0</td>\n",
       "      <td>0</td>\n",
       "      <td>0</td>\n",
       "      <td>0</td>\n",
       "      <td>0</td>\n",
       "    </tr>\n",
       "    <tr>\n",
       "      <th>10670</th>\n",
       "      <td>830</td>\n",
       "      <td>Delhi UT</td>\n",
       "      <td>West</td>\n",
       "      <td>2014</td>\n",
       "      <td>251</td>\n",
       "      <td>546</td>\n",
       "      <td>13</td>\n",
       "      <td>484</td>\n",
       "      <td>63</td>\n",
       "      <td>416</td>\n",
       "      <td>0</td>\n",
       "    </tr>\n",
       "    <tr>\n",
       "      <th>10671</th>\n",
       "      <td>831</td>\n",
       "      <td>Delhi UT</td>\n",
       "      <td>Total District(s)</td>\n",
       "      <td>2014</td>\n",
       "      <td>2096</td>\n",
       "      <td>4034</td>\n",
       "      <td>153</td>\n",
       "      <td>4322</td>\n",
       "      <td>1361</td>\n",
       "      <td>3173</td>\n",
       "      <td>0</td>\n",
       "    </tr>\n",
       "    <tr>\n",
       "      <th>10672</th>\n",
       "      <td>832</td>\n",
       "      <td>Lakshadweep</td>\n",
       "      <td>Lakshadweep</td>\n",
       "      <td>2014</td>\n",
       "      <td>1</td>\n",
       "      <td>0</td>\n",
       "      <td>0</td>\n",
       "      <td>1</td>\n",
       "      <td>2</td>\n",
       "      <td>0</td>\n",
       "      <td>0</td>\n",
       "    </tr>\n",
       "    <tr>\n",
       "      <th>10673</th>\n",
       "      <td>833</td>\n",
       "      <td>Lakshadweep</td>\n",
       "      <td>Total District(s)</td>\n",
       "      <td>2014</td>\n",
       "      <td>1</td>\n",
       "      <td>0</td>\n",
       "      <td>0</td>\n",
       "      <td>1</td>\n",
       "      <td>2</td>\n",
       "      <td>0</td>\n",
       "      <td>0</td>\n",
       "    </tr>\n",
       "    <tr>\n",
       "      <th>10674</th>\n",
       "      <td>834</td>\n",
       "      <td>Puducherry</td>\n",
       "      <td>Karaikal</td>\n",
       "      <td>2014</td>\n",
       "      <td>3</td>\n",
       "      <td>1</td>\n",
       "      <td>0</td>\n",
       "      <td>12</td>\n",
       "      <td>1</td>\n",
       "      <td>1</td>\n",
       "      <td>0</td>\n",
       "    </tr>\n",
       "    <tr>\n",
       "      <th>10675</th>\n",
       "      <td>835</td>\n",
       "      <td>Puducherry</td>\n",
       "      <td>Puducherry</td>\n",
       "      <td>2014</td>\n",
       "      <td>7</td>\n",
       "      <td>6</td>\n",
       "      <td>1</td>\n",
       "      <td>20</td>\n",
       "      <td>7</td>\n",
       "      <td>3</td>\n",
       "      <td>0</td>\n",
       "    </tr>\n",
       "    <tr>\n",
       "      <th>10676</th>\n",
       "      <td>836</td>\n",
       "      <td>Puducherry</td>\n",
       "      <td>Total District(s)</td>\n",
       "      <td>2014</td>\n",
       "      <td>10</td>\n",
       "      <td>7</td>\n",
       "      <td>1</td>\n",
       "      <td>32</td>\n",
       "      <td>8</td>\n",
       "      <td>4</td>\n",
       "      <td>0</td>\n",
       "    </tr>\n",
       "  </tbody>\n",
       "</table>\n",
       "</div>"
      ],
      "text/plain": [
       "       Unnamed: 0     STATE/UT           DISTRICT  Year  Rape  \\\n",
       "10667         827     Delhi UT           Spl Cell  2014     0   \n",
       "10668         828     Delhi UT             SPUWAC  2014     0   \n",
       "10669         829     Delhi UT          Vigilance  2014     0   \n",
       "10670         830     Delhi UT               West  2014   251   \n",
       "10671         831     Delhi UT  Total District(s)  2014  2096   \n",
       "10672         832  Lakshadweep        Lakshadweep  2014     1   \n",
       "10673         833  Lakshadweep  Total District(s)  2014     1   \n",
       "10674         834   Puducherry           Karaikal  2014     3   \n",
       "10675         835   Puducherry         Puducherry  2014     7   \n",
       "10676         836   Puducherry  Total District(s)  2014    10   \n",
       "\n",
       "       Kidnapping and Abduction  Dowry Deaths  \\\n",
       "10667                         0             0   \n",
       "10668                         0             0   \n",
       "10669                         0             0   \n",
       "10670                       546            13   \n",
       "10671                      4034           153   \n",
       "10672                         0             0   \n",
       "10673                         0             0   \n",
       "10674                         1             0   \n",
       "10675                         6             1   \n",
       "10676                         7             1   \n",
       "\n",
       "       Assault on women with intent to outrage her modesty  \\\n",
       "10667                                                  0     \n",
       "10668                                                  0     \n",
       "10669                                                  0     \n",
       "10670                                                484     \n",
       "10671                                               4322     \n",
       "10672                                                  1     \n",
       "10673                                                  1     \n",
       "10674                                                 12     \n",
       "10675                                                 20     \n",
       "10676                                                 32     \n",
       "\n",
       "       Insult to modesty of Women  Cruelty by Husband or his Relatives  \\\n",
       "10667                           0                                    0   \n",
       "10668                           0                                  160   \n",
       "10669                           0                                    0   \n",
       "10670                          63                                  416   \n",
       "10671                        1361                                 3173   \n",
       "10672                           2                                    0   \n",
       "10673                           2                                    0   \n",
       "10674                           1                                    1   \n",
       "10675                           7                                    3   \n",
       "10676                           8                                    4   \n",
       "\n",
       "       Importation of Girls  \n",
       "10667                     0  \n",
       "10668                     0  \n",
       "10669                     0  \n",
       "10670                     0  \n",
       "10671                     0  \n",
       "10672                     0  \n",
       "10673                     0  \n",
       "10674                     0  \n",
       "10675                     0  \n",
       "10676                     0  "
      ]
     },
     "execution_count": 3,
     "metadata": {},
     "output_type": "execute_result"
    }
   ],
   "source": [
    "df.tail(10)"
   ]
  },
  {
   "cell_type": "markdown",
   "metadata": {},
   "source": [
    "### Understanding Data Structure"
   ]
  },
  {
   "cell_type": "code",
   "execution_count": 4,
   "metadata": {},
   "outputs": [
    {
     "data": {
      "text/html": [
       "<div>\n",
       "<style scoped>\n",
       "    .dataframe tbody tr th:only-of-type {\n",
       "        vertical-align: middle;\n",
       "    }\n",
       "\n",
       "    .dataframe tbody tr th {\n",
       "        vertical-align: top;\n",
       "    }\n",
       "\n",
       "    .dataframe thead th {\n",
       "        text-align: right;\n",
       "    }\n",
       "</style>\n",
       "<table border=\"1\" class=\"dataframe\">\n",
       "  <thead>\n",
       "    <tr style=\"text-align: right;\">\n",
       "      <th></th>\n",
       "      <th>Unnamed: 0</th>\n",
       "      <th>Year</th>\n",
       "      <th>Rape</th>\n",
       "      <th>Kidnapping and Abduction</th>\n",
       "      <th>Dowry Deaths</th>\n",
       "      <th>Assault on women with intent to outrage her modesty</th>\n",
       "      <th>Insult to modesty of Women</th>\n",
       "      <th>Cruelty by Husband or his Relatives</th>\n",
       "      <th>Importation of Girls</th>\n",
       "    </tr>\n",
       "  </thead>\n",
       "  <tbody>\n",
       "    <tr>\n",
       "      <th>count</th>\n",
       "      <td>10677.000000</td>\n",
       "      <td>10677.000000</td>\n",
       "      <td>10677.000000</td>\n",
       "      <td>10677.000000</td>\n",
       "      <td>10677.000000</td>\n",
       "      <td>10677.000000</td>\n",
       "      <td>10677.000000</td>\n",
       "      <td>10677.000000</td>\n",
       "      <td>10677.000000</td>\n",
       "    </tr>\n",
       "    <tr>\n",
       "      <th>mean</th>\n",
       "      <td>3871.570198</td>\n",
       "      <td>2007.697949</td>\n",
       "      <td>57.989885</td>\n",
       "      <td>69.888358</td>\n",
       "      <td>20.181699</td>\n",
       "      <td>113.539196</td>\n",
       "      <td>27.419313</td>\n",
       "      <td>209.224314</td>\n",
       "      <td>0.175330</td>\n",
       "    </tr>\n",
       "    <tr>\n",
       "      <th>std</th>\n",
       "      <td>2816.369918</td>\n",
       "      <td>4.046874</td>\n",
       "      <td>214.230398</td>\n",
       "      <td>311.623450</td>\n",
       "      <td>98.276531</td>\n",
       "      <td>458.903951</td>\n",
       "      <td>167.806797</td>\n",
       "      <td>905.664362</td>\n",
       "      <td>2.228637</td>\n",
       "    </tr>\n",
       "    <tr>\n",
       "      <th>min</th>\n",
       "      <td>0.000000</td>\n",
       "      <td>2001.000000</td>\n",
       "      <td>0.000000</td>\n",
       "      <td>0.000000</td>\n",
       "      <td>0.000000</td>\n",
       "      <td>0.000000</td>\n",
       "      <td>0.000000</td>\n",
       "      <td>0.000000</td>\n",
       "      <td>0.000000</td>\n",
       "    </tr>\n",
       "    <tr>\n",
       "      <th>25%</th>\n",
       "      <td>1009.000000</td>\n",
       "      <td>2004.000000</td>\n",
       "      <td>8.000000</td>\n",
       "      <td>6.000000</td>\n",
       "      <td>1.000000</td>\n",
       "      <td>10.000000</td>\n",
       "      <td>0.000000</td>\n",
       "      <td>11.000000</td>\n",
       "      <td>0.000000</td>\n",
       "    </tr>\n",
       "    <tr>\n",
       "      <th>50%</th>\n",
       "      <td>3678.000000</td>\n",
       "      <td>2008.000000</td>\n",
       "      <td>22.000000</td>\n",
       "      <td>20.000000</td>\n",
       "      <td>5.000000</td>\n",
       "      <td>34.000000</td>\n",
       "      <td>2.000000</td>\n",
       "      <td>50.000000</td>\n",
       "      <td>0.000000</td>\n",
       "    </tr>\n",
       "    <tr>\n",
       "      <th>75%</th>\n",
       "      <td>6347.000000</td>\n",
       "      <td>2011.000000</td>\n",
       "      <td>44.000000</td>\n",
       "      <td>49.000000</td>\n",
       "      <td>16.000000</td>\n",
       "      <td>85.000000</td>\n",
       "      <td>12.000000</td>\n",
       "      <td>144.000000</td>\n",
       "      <td>0.000000</td>\n",
       "    </tr>\n",
       "    <tr>\n",
       "      <th>max</th>\n",
       "      <td>9016.000000</td>\n",
       "      <td>2014.000000</td>\n",
       "      <td>5076.000000</td>\n",
       "      <td>10626.000000</td>\n",
       "      <td>2469.000000</td>\n",
       "      <td>10001.000000</td>\n",
       "      <td>4970.000000</td>\n",
       "      <td>23278.000000</td>\n",
       "      <td>83.000000</td>\n",
       "    </tr>\n",
       "  </tbody>\n",
       "</table>\n",
       "</div>"
      ],
      "text/plain": [
       "         Unnamed: 0          Year          Rape  Kidnapping and Abduction  \\\n",
       "count  10677.000000  10677.000000  10677.000000              10677.000000   \n",
       "mean    3871.570198   2007.697949     57.989885                 69.888358   \n",
       "std     2816.369918      4.046874    214.230398                311.623450   \n",
       "min        0.000000   2001.000000      0.000000                  0.000000   \n",
       "25%     1009.000000   2004.000000      8.000000                  6.000000   \n",
       "50%     3678.000000   2008.000000     22.000000                 20.000000   \n",
       "75%     6347.000000   2011.000000     44.000000                 49.000000   \n",
       "max     9016.000000   2014.000000   5076.000000              10626.000000   \n",
       "\n",
       "       Dowry Deaths  Assault on women with intent to outrage her modesty  \\\n",
       "count  10677.000000                                       10677.000000     \n",
       "mean      20.181699                                         113.539196     \n",
       "std       98.276531                                         458.903951     \n",
       "min        0.000000                                           0.000000     \n",
       "25%        1.000000                                          10.000000     \n",
       "50%        5.000000                                          34.000000     \n",
       "75%       16.000000                                          85.000000     \n",
       "max     2469.000000                                       10001.000000     \n",
       "\n",
       "       Insult to modesty of Women  Cruelty by Husband or his Relatives  \\\n",
       "count                10677.000000                         10677.000000   \n",
       "mean                    27.419313                           209.224314   \n",
       "std                    167.806797                           905.664362   \n",
       "min                      0.000000                             0.000000   \n",
       "25%                      0.000000                            11.000000   \n",
       "50%                      2.000000                            50.000000   \n",
       "75%                     12.000000                           144.000000   \n",
       "max                   4970.000000                         23278.000000   \n",
       "\n",
       "       Importation of Girls  \n",
       "count          10677.000000  \n",
       "mean               0.175330  \n",
       "std                2.228637  \n",
       "min                0.000000  \n",
       "25%                0.000000  \n",
       "50%                0.000000  \n",
       "75%                0.000000  \n",
       "max               83.000000  "
      ]
     },
     "execution_count": 4,
     "metadata": {},
     "output_type": "execute_result"
    }
   ],
   "source": [
    "df.describe()"
   ]
  },
  {
   "cell_type": "code",
   "execution_count": 5,
   "metadata": {},
   "outputs": [
    {
     "data": {
      "text/plain": [
       "Index(['Unnamed: 0', 'STATE/UT', 'DISTRICT', 'Year', 'Rape',\n",
       "       'Kidnapping and Abduction', 'Dowry Deaths',\n",
       "       'Assault on women with intent to outrage her modesty',\n",
       "       'Insult to modesty of Women', 'Cruelty by Husband or his Relatives',\n",
       "       'Importation of Girls'],\n",
       "      dtype='object')"
      ]
     },
     "execution_count": 5,
     "metadata": {},
     "output_type": "execute_result"
    }
   ],
   "source": [
    "df.columns"
   ]
  },
  {
   "cell_type": "code",
   "execution_count": 6,
   "metadata": {},
   "outputs": [
    {
     "data": {
      "text/plain": [
       "(10677, 11)"
      ]
     },
     "execution_count": 6,
     "metadata": {},
     "output_type": "execute_result"
    }
   ],
   "source": [
    "df.shape"
   ]
  },
  {
   "cell_type": "code",
   "execution_count": 7,
   "metadata": {},
   "outputs": [
    {
     "data": {
      "text/plain": [
       "2"
      ]
     },
     "execution_count": 7,
     "metadata": {},
     "output_type": "execute_result"
    }
   ],
   "source": [
    "df.ndim"
   ]
  },
  {
   "cell_type": "code",
   "execution_count": 8,
   "metadata": {},
   "outputs": [
    {
     "data": {
      "text/plain": [
       "Unnamed: 0                                             3871.570198\n",
       "Year                                                   2007.697949\n",
       "Rape                                                     57.989885\n",
       "Kidnapping and Abduction                                 69.888358\n",
       "Dowry Deaths                                             20.181699\n",
       "Assault on women with intent to outrage her modesty     113.539196\n",
       "Insult to modesty of Women                               27.419313\n",
       "Cruelty by Husband or his Relatives                     209.224314\n",
       "Importation of Girls                                      0.175330\n",
       "dtype: float64"
      ]
     },
     "execution_count": 8,
     "metadata": {},
     "output_type": "execute_result"
    }
   ],
   "source": [
    "df.mean()"
   ]
  },
  {
   "cell_type": "code",
   "execution_count": 9,
   "metadata": {},
   "outputs": [
    {
     "name": "stdout",
     "output_type": "stream",
     "text": [
      "<class 'pandas.core.frame.DataFrame'>\n",
      "RangeIndex: 10677 entries, 0 to 10676\n",
      "Data columns (total 11 columns):\n",
      " #   Column                                               Non-Null Count  Dtype \n",
      "---  ------                                               --------------  ----- \n",
      " 0   Unnamed: 0                                           10677 non-null  int64 \n",
      " 1   STATE/UT                                             10677 non-null  object\n",
      " 2   DISTRICT                                             10677 non-null  object\n",
      " 3   Year                                                 10677 non-null  int64 \n",
      " 4   Rape                                                 10677 non-null  int64 \n",
      " 5   Kidnapping and Abduction                             10677 non-null  int64 \n",
      " 6   Dowry Deaths                                         10677 non-null  int64 \n",
      " 7   Assault on women with intent to outrage her modesty  10677 non-null  int64 \n",
      " 8   Insult to modesty of Women                           10677 non-null  int64 \n",
      " 9   Cruelty by Husband or his Relatives                  10677 non-null  int64 \n",
      " 10  Importation of Girls                                 10677 non-null  int64 \n",
      "dtypes: int64(9), object(2)\n",
      "memory usage: 917.7+ KB\n"
     ]
    }
   ],
   "source": [
    "df.info()"
   ]
  },
  {
   "cell_type": "markdown",
   "metadata": {},
   "source": [
    "### Checking NULL values"
   ]
  },
  {
   "cell_type": "code",
   "execution_count": 10,
   "metadata": {},
   "outputs": [
    {
     "data": {
      "text/plain": [
       "Unnamed: 0                                             0\n",
       "STATE/UT                                               0\n",
       "DISTRICT                                               0\n",
       "Year                                                   0\n",
       "Rape                                                   0\n",
       "Kidnapping and Abduction                               0\n",
       "Dowry Deaths                                           0\n",
       "Assault on women with intent to outrage her modesty    0\n",
       "Insult to modesty of Women                             0\n",
       "Cruelty by Husband or his Relatives                    0\n",
       "Importation of Girls                                   0\n",
       "dtype: int64"
      ]
     },
     "execution_count": 10,
     "metadata": {},
     "output_type": "execute_result"
    }
   ],
   "source": [
    "df.isnull().sum()"
   ]
  },
  {
   "cell_type": "markdown",
   "metadata": {},
   "source": [
    "### Year Wise Analysis Of Crime Through Visualization"
   ]
  },
  {
   "cell_type": "markdown",
   "metadata": {},
   "source": [
    "### Rape"
   ]
  },
  {
   "cell_type": "code",
   "execution_count": 12,
   "metadata": {},
   "outputs": [
    {
     "data": {
      "image/png": "[encoded data removed]",
      "text/plain": [
       "<Figure size 432x288 with 1 Axes>"
      ]
     },
     "metadata": {
      "needs_background": "light"
     },
     "output_type": "display_data"
    }
   ],
   "source": [
    "df.groupby(by=df[\"Year\"])[\"Rape\"].max().plot(kind=\"bar\")\n",
    "plt.title(\"Rape cases on the basis of year\")\n",
    "plt.show()"
   ]
  },
  {
   "cell_type": "markdown",
   "metadata": {},
   "source": [
    "### Kidnapping And Abduction"
   ]
  },
  {
   "cell_type": "code",
   "execution_count": 13,
   "metadata": {},
   "outputs": [
    {
     "data": {
      "image/png": "[encoded data removed]",
      "text/plain": [
       "<Figure size 432x288 with 1 Axes>"
      ]
     },
     "metadata": {
      "needs_background": "light"
     },
     "output_type": "display_data"
    }
   ],
   "source": [
    "df.groupby(by=df[\"Year\"])[\"Kidnapping and Abduction\"].max().plot(kind=\"bar\", color='orange')\n",
    "plt.title(\"Kidnapping and Abduction cases on the basis of year\")\n",
    "plt.show()"
   ]
  },
  {
   "cell_type": "markdown",
   "metadata": {},
   "source": [
    "### Dowry Deaths"
   ]
  },
  {
   "cell_type": "code",
   "execution_count": 14,
   "metadata": {},
   "outputs": [
    {
     "data": {
      "image/png": "[encoded data removed]",
      "text/plain": [
       "<Figure size 432x288 with 1 Axes>"
      ]
     },
     "metadata": {
      "needs_background": "light"
     },
     "output_type": "display_data"
    }
   ],
   "source": [
    "df.groupby(by=df[\"Year\"])[\"Dowry Deaths\"].max().plot(kind=\"bar\", color='green')\n",
    "plt.title(\"Dowry Deaths cases on the basis of year\")\n",
    "plt.show()"
   ]
  },
  {
   "cell_type": "markdown",
   "metadata": {},
   "source": [
    "### Assault On Women With Intent To Outrage her Modesty"
   ]
  },
  {
   "cell_type": "code",
   "execution_count": 15,
   "metadata": {},
   "outputs": [
    {
     "data": {
      "image/png": "[encoded data removed]",
      "text/plain": [
       "<Figure size 432x288 with 1 Axes>"
      ]
     },
     "metadata": {
      "needs_background": "light"
     },
     "output_type": "display_data"
    }
   ],
   "source": [
    "df.groupby(by=df[\"Year\"])[\"Assault on women with intent to outrage her modesty\"].max().plot(kind=\"bar\", color='grey')\n",
    "plt.title(\"Assault on women with intent to outrage her modesty on the basis of year\")\n",
    "plt.show()"
   ]
  },
  {
   "cell_type": "markdown",
   "metadata": {},
   "source": [
    "### Insult To Modesty Of Women"
   ]
  },
  {
   "cell_type": "code",
   "execution_count": 16,
   "metadata": {},
   "outputs": [
    {
     "data": {
      "image/png": "[encoded data removed]",
      "text/plain": [
       "<Figure size 432x288 with 1 Axes>"
      ]
     },
     "metadata": {
      "needs_background": "light"
     },
     "output_type": "display_data"
    }
   ],
   "source": [
    "df.groupby(by=df[\"Year\"])[\"Insult to modesty of Women\"].max().plot(kind=\"bar\", color='red')\n",
    "plt.title(\"Insult to modesty of Women on the basis of year\")\n",
    "plt.show()"
   ]
  },
  {
   "cell_type": "markdown",
   "metadata": {},
   "source": [
    "### Cruelty by Husband or his Relatives"
   ]
  },
  {
   "cell_type": "code",
   "execution_count": 17,
   "metadata": {},
   "outputs": [
    {
     "data": {
      "image/png": "[encoded data removed]",
      "text/plain": [
       "<Figure size 432x288 with 1 Axes>"
      ]
     },
     "metadata": {
      "needs_background": "light"
     },
     "output_type": "display_data"
    }
   ],
   "source": [
    "df.groupby(by=df[\"Year\"])[\"Cruelty by Husband or his Relatives\"].max().plot(kind=\"bar\", color='yellow')\n",
    "plt.title(\"Cruelty by Husband or his Relatives\")\n",
    "plt.show()"
   ]
  },
  {
   "cell_type": "markdown",
   "metadata": {},
   "source": [
    "### Importation of Girls"
   ]
  },
  {
   "cell_type": "code",
   "execution_count": 18,
   "metadata": {},
   "outputs": [
    {
     "data": {
      "image/png": "[encoded data removed]",
      "text/plain": [
       "<Figure size 432x288 with 1 Axes>"
      ]
     },
     "metadata": {
      "needs_background": "light"
     },
     "output_type": "display_data"
    }
   ],
   "source": [
    "df.groupby(by=df[\"Year\"])[\"Importation of Girls\"].max().plot(kind=\"bar\",color= 'green')\n",
    "plt.title(\"Importation of Girls Year Wise\")\n",
    "plt.show()"
   ]
  },
  {
   "cell_type": "markdown",
   "metadata": {},
   "source": [
    "### As through above analysis we can clearly see that only one crime (Importation of Girls) reduced from 2001 to 2014"
   ]
  },
  {
   "cell_type": "code",
   "execution_count": 19,
   "metadata": {},
   "outputs": [
    {
     "data": {
      "image/png": "[encoded data removed]",
      "text/plain": [
       "<Figure size 432x288 with 1 Axes>"
      ]
     },
     "metadata": {
      "needs_background": "light"
     },
     "output_type": "display_data"
    }
   ],
   "source": [
    "crime=pd.crosstab(df[\"STATE/UT\"],[\"type\"]).sort_values(by=\"type\",ascending=False)\n",
    "crime.head(10).plot(kind=\"bar\")\n",
    "plt.legend()\n",
    "plt.title(\"CITIES WITH HIGHEST NUMBER OF CASES\")\n",
    "plt.show()"
   ]
  },
  {
   "cell_type": "code",
   "execution_count": 20,
   "metadata": {},
   "outputs": [
    {
     "data": {
      "image/png": "[encoded data removed]",
      "text/plain": [
       "<Figure size 432x288 with 1 Axes>"
      ]
     },
     "metadata": {
      "needs_background": "light"
     },
     "output_type": "display_data"
    }
   ],
   "source": [
    "crime=pd.crosstab(df[\"Year\"],[\"type\"]).sort_values(by=\"type\",ascending=False)\n",
    "crime.head(10).plot(kind=\"bar\")\n",
    "plt.legend()\n",
    "plt.title(\"YEAR WITH HIGHEST NUMBER OF CASES\")\n",
    "plt.show()"
   ]
  },
  {
   "cell_type": "code",
   "execution_count": 21,
   "metadata": {},
   "outputs": [
    {
     "data": {
      "text/plain": [
       "Unnamed: 0                                                    9016\n",
       "STATE/UT                                               West Bengal\n",
       "DISTRICT                                                 Zunheboto\n",
       "Year                                                          2014\n",
       "Rape                                                          5076\n",
       "Kidnapping and Abduction                                     10626\n",
       "Dowry Deaths                                                  2469\n",
       "Assault on women with intent to outrage her modesty          10001\n",
       "Insult to modesty of Women                                    4970\n",
       "Cruelty by Husband or his Relatives                          23278\n",
       "Importation of Girls                                            83\n",
       "dtype: object"
      ]
     },
     "execution_count": 21,
     "metadata": {},
     "output_type": "execute_result"
    }
   ],
   "source": [
    "df.max()"
   ]
  },
  {
   "cell_type": "code",
   "execution_count": 22,
   "metadata": {},
   "outputs": [
    {
     "data": {
      "image/png": "[encoded data removed]",
      "text/plain": [
       "<Figure size 864x360 with 1 Axes>"
      ]
     },
     "metadata": {
      "needs_background": "light"
     },
     "output_type": "display_data"
    }
   ],
   "source": [
    "df.groupby(by=df[\"Year\"])[\"Rape\",\"Kidnapping and Abduction\",\"Dowry Deaths\",\"Assault on women with intent to outrage her modesty\"\n",
    "                          ,\"Insult to modesty of Women\",'Cruelty by Husband or his Relatives',\n",
    "                          'Importation of Girls'].max().plot(kind=\"bar\", figsize=(12,5))\n",
    "plt.title(\"which crime is highest\")\n",
    "plt.show()"
   ]
  },
  {
   "cell_type": "code",
   "execution_count": 23,
   "metadata": {},
   "outputs": [
    {
     "data": {
      "text/plain": [
       "Unnamed: 0                                             3871.570198\n",
       "Year                                                   2007.697949\n",
       "Rape                                                     57.989885\n",
       "Kidnapping and Abduction                                 69.888358\n",
       "Dowry Deaths                                             20.181699\n",
       "Assault on women with intent to outrage her modesty     113.539196\n",
       "Insult to modesty of Women                               27.419313\n",
       "Cruelty by Husband or his Relatives                     209.224314\n",
       "Importation of Girls                                      0.175330\n",
       "dtype: float64"
      ]
     },
     "execution_count": 23,
     "metadata": {},
     "output_type": "execute_result"
    }
   ],
   "source": [
    "df.mean()"
   ]
  },
  {
   "cell_type": "code",
   "execution_count": 24,
   "metadata": {},
   "outputs": [
    {
     "data": {
      "image/png": "[encoded data removed]",
      "text/plain": [
       "<Figure size 864x360 with 1 Axes>"
      ]
     },
     "metadata": {
      "needs_background": "light"
     },
     "output_type": "display_data"
    }
   ],
   "source": [
    "df.groupby(by=df[\"Year\"])[\"Rape\",\"Kidnapping and Abduction\",\"Dowry Deaths\",\n",
    "                          \"Assault on women with intent to outrage her modesty\",\"Insult to modesty of Women\",\n",
    "                          'Cruelty by Husband or his Relatives','Importation of Girls'].mean().plot(kind=\"bar\", figsize=(12,5))\n",
    "plt.title(\"which crime is highest\")\n",
    "plt.show()"
   ]
  },
  {
   "cell_type": "markdown",
   "metadata": {},
   "source": [
    "### Summary\n",
    " The highest no. of crime that is reported is in year 2014.\n",
    " \n",
    " In state UP is the one with the highest no. of crime.\n",
    " \n",
    " (Importation of Girls) is the only crime that has been reduced from 2001 to 2014.\n",
    " \n",
    " And finally we have insights that Cruelty by Husband or his Relatives is highest crime that has happend and dowry deaths are the lowest one."
   ]
  }
 ],
 "metadata": {
  "kernelspec": {
   "display_name": "Python 3",
   "language": "python",
   "name": "python3"
  },
  "language_info": {
   "codemirror_mode": {
    "name": "ipython",
    "version": 3
   },
   "file_extension": ".py",
   "mimetype": "text/x-python",
   "name": "python",
   "nbconvert_exporter": "python",
   "pygments_lexer": "ipython3",
   "version": "3.8.5"
  }
 },
 "nbformat": 4,
 "nbformat_minor": 4
}
